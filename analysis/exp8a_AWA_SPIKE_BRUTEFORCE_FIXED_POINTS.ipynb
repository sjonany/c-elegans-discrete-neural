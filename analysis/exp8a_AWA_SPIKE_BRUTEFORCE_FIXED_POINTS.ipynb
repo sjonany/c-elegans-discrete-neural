{
 "cells": [
  {
   "cell_type": "code",
   "execution_count": 7,
   "metadata": {},
   "outputs": [],
   "source": [
    "# Parameters to set to run this notebook\n",
    "\n",
    "# Initialize helpers.\n",
    "import numpy as np\n",
    "import project_path\n",
    "from model.data_accessor import get_data_file_abs_path\n",
    "from model.neuron_metadata import *\n",
    "import model.init_conds as init_conds\n",
    "neuron_metadata_collection = NeuronMetadataCollection.load_from_chem_json(get_data_file_abs_path('chem.json'))\n",
    "N = neuron_metadata_collection.get_size()\n",
    "\n",
    "key_neuron = \"AWAR\"\n",
    "key_neuron_id = neuron_metadata_collection.get_id_from_name(key_neuron)\n",
    "current_nA = 9\n",
    "step_duration_s = 20\n",
    "\n",
    "# AWAR fixed points at current_nA = 3 {'9952.56': 0, '10435.27': 3, '10461.02': 5}\n",
    "# At current_nA = 6 {'20893.82': 0, '19900.50': 1, '19819.50': 3}\n",
    "# At current_nA = 9 {'31426.21': 0, '31563.77': 1, '29598.34': 2}"
   ]
  },
  {
   "cell_type": "code",
   "execution_count": 8,
   "metadata": {},
   "outputs": [
    {
     "name": "stdout",
     "output_type": "stream",
     "text": [
      "-------------------\n",
      "Iteration 0\n",
      "Timestep 0 out of 1000\n",
      "Timestep 100 out of 1000\n",
      "Timestep 200 out of 1000\n",
      "Timestep 300 out of 1000\n",
      "Timestep 400 out of 1000\n",
      "Timestep 500 out of 1000\n",
      "Timestep 600 out of 1000\n",
      "Timestep 700 out of 1000\n",
      "Timestep 800 out of 1000\n",
      "Timestep 900 out of 1000\n",
      "Total runtime = 6.41s\n",
      "New normed v found! 31426.21 in i = 0\n",
      "Final AWAR mV = 31426.21\n",
      "{'31426.21': 0}\n",
      "-------------------\n",
      "Iteration 1\n",
      "Timestep 0 out of 1000\n",
      "Timestep 100 out of 1000\n",
      "Timestep 200 out of 1000\n",
      "Timestep 300 out of 1000\n",
      "Timestep 400 out of 1000\n",
      "Timestep 500 out of 1000\n",
      "Timestep 600 out of 1000\n",
      "Timestep 700 out of 1000\n",
      "Timestep 800 out of 1000\n",
      "Timestep 900 out of 1000\n",
      "Total runtime = 2.70s\n",
      "New normed v found! 31563.77 in i = 1\n",
      "Final AWAR mV = 31563.77\n",
      "{'31426.21': 0, '31563.77': 1}\n",
      "-------------------\n",
      "Iteration 2\n",
      "Timestep 0 out of 1000\n",
      "Timestep 100 out of 1000\n",
      "Timestep 200 out of 1000\n",
      "Timestep 300 out of 1000\n",
      "Timestep 400 out of 1000\n",
      "Timestep 500 out of 1000\n",
      "Timestep 600 out of 1000\n",
      "Timestep 700 out of 1000\n",
      "Timestep 800 out of 1000\n",
      "Timestep 900 out of 1000\n",
      "Total runtime = 2.68s\n",
      "New normed v found! 29598.34 in i = 2\n",
      "Final AWAR mV = 29598.34\n",
      "{'31426.21': 0, '31563.77': 1, '29598.34': 2}\n",
      "-------------------\n",
      "Iteration 4\n",
      "Timestep 0 out of 1000\n",
      "Timestep 100 out of 1000\n",
      "Timestep 200 out of 1000\n",
      "Timestep 300 out of 1000\n",
      "Timestep 400 out of 1000\n",
      "Timestep 500 out of 1000\n",
      "Timestep 600 out of 1000\n",
      "Timestep 700 out of 1000\n",
      "Timestep 800 out of 1000\n",
      "Timestep 900 out of 1000\n",
      "Total runtime = 9.15s\n",
      "Final AWAR mV = 31563.77\n",
      "{'31426.21': 0, '31563.77': 1, '29598.34': 2}\n",
      "-------------------\n",
      "Iteration 5\n",
      "Timestep 0 out of 1000\n",
      "Timestep 100 out of 1000\n",
      "Timestep 200 out of 1000\n",
      "Timestep 300 out of 1000\n",
      "Timestep 400 out of 1000\n",
      "Timestep 500 out of 1000\n",
      "Timestep 600 out of 1000\n",
      "Timestep 700 out of 1000\n",
      "Timestep 800 out of 1000\n",
      "Timestep 900 out of 1000\n",
      "Total runtime = 2.92s\n",
      "Final AWAR mV = 31426.21\n",
      "{'31426.21': 0, '31563.77': 1, '29598.34': 2}\n"
     ]
    }
   ],
   "source": [
    "from model.neural_model import NeuralModel\n",
    "from util.plot_util import *\n",
    "import os\n",
    "import pickle\n",
    "\n",
    "def gen_dyns(current_nA, step_duration_s, init_cond_seed):\n",
    "  model = NeuralModel(neuron_metadata_collection)\n",
    "  model.init_conds = init_conds.generate_init_cond_with_seed(\n",
    "    model, key_neuron, current_nA, init_cond_seed)\n",
    "  model.set_I_ext_constant_currents({key_neuron: current_nA})\n",
    "  model.init_kunert_2017()\n",
    "\n",
    "  simul_timesteps = int(step_duration_s / model.dt)\n",
    "  (v_mat, s_mat, v_normalized_mat) = model.run(simul_timesteps)\n",
    "  return v_mat\n",
    "\n",
    "final_v_to_init_cond_i = {}\n",
    "for init_cond_i in [0,1,2]: \n",
    "  print(\"-------------------\")\n",
    "  print(\"Iteration \" + str(init_cond_i))\n",
    "  v_mat = gen_dyns(current_nA, step_duration_s, init_cond_i)\n",
    "  key_neuron_stable_v = v_mat[-1, key_neuron_id]\n",
    "\n",
    "  normed_v = \"%.2f\" % key_neuron_stable_v\n",
    "  if normed_v not in final_v_to_init_cond_i:\n",
    "    print(\"New normed v found! %s in i = %d\" % (normed_v, init_cond_i))\n",
    "    final_v_to_init_cond_i[normed_v] = init_cond_i\n",
    "  print(\"Final %s mV = %.2f\" % (key_neuron, key_neuron_stable_v))\n",
    "  print(final_v_to_init_cond_i)"
   ]
  },
  {
   "cell_type": "code",
   "execution_count": 14,
   "metadata": {},
   "outputs": [
    {
     "name": "stdout",
     "output_type": "stream",
     "text": [
      "Timestep 0 out of 2000\n",
      "Timestep 100 out of 2000\n",
      "Timestep 200 out of 2000\n",
      "Timestep 300 out of 2000\n",
      "Timestep 400 out of 2000\n",
      "Timestep 500 out of 2000\n",
      "Timestep 600 out of 2000\n",
      "Timestep 700 out of 2000\n",
      "Timestep 800 out of 2000\n",
      "Timestep 900 out of 2000\n",
      "Timestep 1000 out of 2000\n",
      "Timestep 1100 out of 2000\n",
      "Timestep 1200 out of 2000\n",
      "Timestep 1300 out of 2000\n",
      "Timestep 1400 out of 2000\n",
      "Timestep 1500 out of 2000\n",
      "Timestep 1600 out of 2000\n",
      "Timestep 1700 out of 2000\n",
      "Timestep 1800 out of 2000\n",
      "Timestep 1900 out of 2000\n",
      "Total runtime = 5.43s\n",
      "Final AWAR mV = 29598.34\n"
     ]
    },
    {
     "name": "stderr",
     "output_type": "stream",
     "text": [
      "/home/stephen/anaconda3/lib/python3.7/site-packages/ipykernel_launcher.py:17: UserWarning: Matplotlib is currently using module://ipykernel.pylab.backend_inline, which is a non-GUI backend, so cannot show the figure.\n"
     ]
    },
    {
     "data": {
      "image/png": "[encoded data removed]",
      "text/plain": [
       "<Figure size 432x288 with 1 Axes>"
      ]
     },
     "metadata": {
      "needs_background": "light"
     },
     "output_type": "display_data"
    }
   ],
   "source": [
    "model = NeuralModel(neuron_metadata_collection)\n",
    "model.init_kunert_2017()\n",
    "v_mat = gen_dyns(\n",
    "  current_nA = 9,\n",
    "  step_duration_s = 20,\n",
    "  init_cond_seed = 2)\n",
    "key_neuron_stable_v = v_mat[-1, key_neuron_id]\n",
    "print(\"Final %s mV = %.2f\" % (key_neuron, key_neuron_stable_v))\n",
    "fig, ax = plt.subplots(nrows=1, ncols=1)\n",
    "plot_potentials(\n",
    "  neuron_names_to_show = [key_neuron],\n",
    "  dynamics = v_mat,\n",
    "  is_normalized_v = False,\n",
    "  dt = model.dt,\n",
    "  neuron_metadata_collection = neuron_metadata_collection,\n",
    "  fig_axes = [ax])\n",
    "fig.show()"
   ]
  },
  {
   "cell_type": "code",
   "execution_count": null,
   "metadata": {},
   "outputs": [],
   "source": []
  }
 ],
 "metadata": {
  "kernelspec": {
   "display_name": "Python 3",
   "language": "python",
   "name": "python3"
  },
  "language_info": {
   "codemirror_mode": {
    "name": "ipython",
    "version": 3
   },
   "file_extension": ".py",
   "mimetype": "text/x-python",
   "name": "python",
   "nbconvert_exporter": "python",
   "pygments_lexer": "ipython3",
   "version": "3.7.3"
  }
 },
 "nbformat": 4,
 "nbformat_minor": 2
}
