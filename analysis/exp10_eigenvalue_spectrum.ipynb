{
 "cells": [
  {
   "cell_type": "code",
   "execution_count": 1,
   "metadata": {},
   "outputs": [],
   "source": [
    "import numpy as np\n",
    "import pickle\n",
    "import project_path\n",
    "import os\n",
    "from model.neuron_metadata import *\n",
    "from model.data_accessor import get_data_file_abs_path\n",
    "from model.neural_model import NeuralModel\n",
    "from util.plot_util import *\n",
    "from scipy import optimize\n",
    "from numpy import linalg as LA\n",
    "import sympy as sp\n",
    "import time\n",
    "\n",
    "neuron_metadata_collection = NeuronMetadataCollection.load_from_chem_json(get_data_file_abs_path('chem.json'))\n",
    "N = neuron_metadata_collection.get_size()"
   ]
  },
  {
   "cell_type": "code",
   "execution_count": 2,
   "metadata": {},
   "outputs": [],
   "source": [
    "I_nA = 1.4"
   ]
  },
  {
   "cell_type": "code",
   "execution_count": 3,
   "metadata": {},
   "outputs": [],
   "source": [
    "model = NeuralModel(neuron_metadata_collection)\n",
    "model.init_kunert_2017()\n",
    "\n",
    "# Get standard equilibrium\n",
    "cur_I_ext = np.zeros(N)\n",
    "neuron_id = neuron_metadata_collection.get_id_from_name(\"PLML\")\n",
    "cur_I_ext[neuron_id] = I_nA * 10000\n",
    "model.cur_I_ext = cur_I_ext\n",
    "model.set_I_ext_constant_currents({\"PLML\": I_nA})\n",
    "standard_equi = model.compute_standard_equilibrium()"
   ]
  },
  {
   "cell_type": "code",
   "execution_count": 48,
   "metadata": {},
   "outputs": [
    {
     "name": "stdout",
     "output_type": "stream",
     "text": [
      "dVdt symbols takes 6.04s\n"
     ]
    },
    {
     "data": {
      "text/plain": [
       "[-10.0*v0 - 350.0,\n",
       " -100.0*s22*v1 - 10.0*v1 - 350.0,\n",
       " 100.0*v156 - 100.0*v2*(1.0*s1 + 2.0*s149 + 2.0*s64) - 110.0*v2 - 350.0,\n",
       " -100.0*v3*(3.0*s0 + 1.0*s176 + 1.0*s269 + 2.0*s39) - 10.0*v3 - 350.0,\n",
       " 100.0*v23 + 100.0*v35 - 100.0*v4*(7.0*s1 + 1.0*s13 + 2.0*s22 + 1.0*s269 + 2.0*s30 + 2.0*s7) - 310.0*v4 + 100.0*v8 - 350.0]"
      ]
     },
     "execution_count": 48,
     "metadata": {},
     "output_type": "execute_result"
    }
   ],
   "source": [
    "start_time = time.time()\n",
    "vs = sp.Matrix(sp.symbols(' '.join([('v'+str(i)) for i in range(N)])))\n",
    "ss = sp.Matrix(sp.symbols(' '.join([('s'+str(i)) for i in range(N)])))\n",
    "\n",
    "Gs_sp = sp.Matrix(model.Gs)\n",
    "Gg_sp = sp.Matrix(model.Gg)\n",
    "E_sp = sp.Matrix(model.E)\n",
    "Gg_squashed_col_sp = sp.Matrix(model.Gg.sum(axis = 1))\n",
    "neg_Ec_sp = sp.ones(N,1) * (-model.Ec)\n",
    "\n",
    "# I_leak\n",
    "I_leak = model.Gc * (vs + neg_Ec_sp)\n",
    "\n",
    "# I_gap = sum_j G_ij (V_i - V_j) = V_i sum_j G_ij - sum_j G_ij V_j\n",
    "# The first term is a point-wise multiplication of V and G's squashed column.\n",
    "# The second term is matrix multiplication of G and V\n",
    "I_gap = sp.matrix_multiply_elementwise(Gg_squashed_col_sp, vs) - Gg_sp * vs\n",
    "\n",
    "# I_syn = sum_j G_ij s_j (V_i - E_j) = V_i sum_j G_ij s_j - sum_j G_j s_j E_j\n",
    "# First term is a point-wise multiplication of V and (Matrix mult of G and s)\n",
    "# Second term is matrix mult of G and (point mult of s_j and E_j)\n",
    "I_syn = sp.matrix_multiply_elementwise(vs, Gs_sp * ss) -\\\n",
    "    Gs_sp * sp.matrix_multiply_elementwise(ss, E_sp)\n",
    "\n",
    "dV_dts = (-I_leak - I_gap - I_syn + sp.Matrix(model.cur_I_ext)) / model.C\n",
    "print(\"dVdt symbols takes %.2fs\" % (time.time()-start_time))\n",
    "dV_dts[:5]"
   ]
  },
  {
   "cell_type": "code",
   "execution_count": 60,
   "metadata": {},
   "outputs": [
    {
     "data": {
      "text/plain": [
       "[-5.0*s0 + 1.0*(1 - s0)/(1.0 + 0.012588142242434*exp(-0.125*v0)),\n",
       " -5.0*s1 + 1.0*(1 - s1)/(1.0 + 0.101097824987219*exp(-0.125*v1)),\n",
       " -5.0*s2 + 1.0*(1 - s2)/(1.0 + 0.64100011656792*exp(-0.125*v2)),\n",
       " -5.0*s3 + 1.0*(1 - s3)/(1.0 + 0.552039430898483*exp(-0.125*v3)),\n",
       " -5.0*s4 + 1.0*(1 - s4)/(1.0 + 0.720888494992684*exp(-0.125*v4))]"
      ]
     },
     "execution_count": 60,
     "metadata": {},
     "output_type": "execute_result"
    }
   ],
   "source": [
    "v_min_vths = vs - sp.Matrix(model.Vth)\n",
    "phis = v_min_vths.applyfunc(lambda v_min_vth: 1.0 / (1.0 + sp.exp(-model.B * v_min_vth)))\n",
    "syn_rises = model.ar * sp.matrix_multiply_elementwise(phis, (sp.ones(N,1) - ss))\n",
    "syn_drops = model.ad * ss\n",
    "dSdts = syn_rises - syn_drops\n",
    "dSdts[:5]"
   ]
  },
  {
   "cell_type": "code",
   "execution_count": null,
   "metadata": {},
   "outputs": [],
   "source": [
    "all_dts = dVdts + dSdts\n",
    "J = sp.Matrix(all_dts).jacobian(all_symbols)"
   ]
  }
 ],
 "metadata": {
  "kernelspec": {
   "display_name": "Python 3",
   "language": "python",
   "name": "python3"
  },
  "language_info": {
   "codemirror_mode": {
    "name": "ipython",
    "version": 3
   },
   "file_extension": ".py",
   "mimetype": "text/x-python",
   "name": "python",
   "nbconvert_exporter": "python",
   "pygments_lexer": "ipython3",
   "version": "3.7.3"
  }
 },
 "nbformat": 4,
 "nbformat_minor": 4
}
