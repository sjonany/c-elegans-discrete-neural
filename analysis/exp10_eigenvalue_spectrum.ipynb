{
 "cells": [
  {
   "cell_type": "code",
   "execution_count": 1,
   "metadata": {},
   "outputs": [],
   "source": [
    "import numpy as np\n",
    "import pickle\n",
    "import project_path\n",
    "import os\n",
    "from model.neuron_metadata import *\n",
    "from model.data_accessor import get_data_file_abs_path\n",
    "from model.neural_model import NeuralModel\n",
    "from util.plot_util import *\n",
    "from scipy import optimize\n",
    "from numpy import linalg as LA\n",
    "import sympy as sp\n",
    "import time\n",
    "\n",
    "neuron_metadata_collection = NeuronMetadataCollection.load_from_chem_json(get_data_file_abs_path('chem.json'))\n",
    "N = neuron_metadata_collection.get_size()\n",
    "neuron_to_stimulate = \"PLMR\""
   ]
  },
  {
   "cell_type": "code",
   "execution_count": 3,
   "metadata": {},
   "outputs": [],
   "source": [
    "model = NeuralModel(neuron_metadata_collection)\n",
    "model.init_kunert_2017()\n",
    "\n",
    "# Get standard equilibrium\n",
    "I_nA = 1.4\n",
    "cur_I_ext = np.zeros(N)\n",
    "neuron_id = neuron_metadata_collection.get_id_from_name(neuron_to_stimulate)\n",
    "cur_I_ext[neuron_id] = I_nA * 10000\n",
    "model.cur_I_ext = cur_I_ext\n",
    "model.set_I_ext_constant_currents({neuron_to_stimulate: I_nA})\n",
    "standard_equi = model.compute_standard_equilibrium()"
   ]
  },
  {
   "cell_type": "code",
   "execution_count": 4,
   "metadata": {},
   "outputs": [],
   "source": [
    "def get_dynamics_symbols(model):\n",
    "  \"\"\"\n",
    "  Get the dV/dt and dS/dt in symbols, so you can do things like substitutions / computing jacobians.\n",
    "  \"\"\"\n",
    "  N = model.N\n",
    "  vsymbols = sp.symbols(' '.join([('v'+str(i)) for i in range(N)]))\n",
    "  ssymbols = sp.symbols(' '.join([('s'+str(i)) for i in range(N)]))\n",
    "  vs = sp.Matrix(vsymbols)\n",
    "  ss = sp.Matrix(ssymbols)\n",
    "\n",
    "  Gs_sp = sp.Matrix(model.Gs)\n",
    "  Gg_sp = sp.Matrix(model.Gg)\n",
    "  E_sp = sp.Matrix(model.E)\n",
    "  Gg_squashed_col_sp = sp.Matrix(model.Gg.sum(axis = 1))\n",
    "  neg_Ec_sp = sp.ones(N,1) * (-model.Ec)\n",
    "\n",
    "  # I_leak\n",
    "  I_leak = model.Gc * (vs + neg_Ec_sp)\n",
    "\n",
    "  # I_gap = sum_j G_ij (V_i - V_j) = V_i sum_j G_ij - sum_j G_ij V_j\n",
    "  # The first term is a point-wise multiplication of V and G's squashed column.\n",
    "  # The second term is matrix multiplication of G and V\n",
    "  I_gap = sp.matrix_multiply_elementwise(Gg_squashed_col_sp, vs) - Gg_sp * vs\n",
    "\n",
    "  # I_syn = sum_j G_ij s_j (V_i - E_j) = V_i sum_j G_ij s_j - sum_j G_j s_j E_j\n",
    "  # First term is a point-wise multiplication of V and (Matrix mult of G and s)\n",
    "  # Second term is matrix mult of G and (point mult of s_j and E_j)\n",
    "  I_syn = sp.matrix_multiply_elementwise(vs, Gs_sp * ss) -\\\n",
    "      Gs_sp * sp.matrix_multiply_elementwise(ss, E_sp)\n",
    "\n",
    "  dV_dts = (-I_leak - I_gap - I_syn + sp.Matrix(model.cur_I_ext)) / model.C\n",
    "  \n",
    "  v_min_vths = vs - sp.Matrix(model.Vth)\n",
    "  phis = v_min_vths.applyfunc(lambda v_min_vth: 1.0 / (1.0 + sp.exp(-model.B * v_min_vth)))\n",
    "  syn_rises = model.ar * sp.matrix_multiply_elementwise(phis, (sp.ones(N,1) - ss))\n",
    "  syn_drops = model.ad * ss\n",
    "  dS_dts = syn_rises - syn_drops\n",
    "  return vsymbols, ssymbols, sp.Matrix([dV_dts, dS_dts])"
   ]
  },
  {
   "cell_type": "code",
   "execution_count": 5,
   "metadata": {},
   "outputs": [
    {
     "name": "stdout",
     "output_type": "stream",
     "text": [
      "Computing symbols takes 9.02s\n"
     ]
    }
   ],
   "source": [
    "start_time = time.time()\n",
    "vsymbols, ssymbols, dyn_symbols = get_dynamics_symbols(model)\n",
    "print(\"Computing symbols takes %.2fs\" % (time.time() - start_time))"
   ]
  },
  {
   "cell_type": "code",
   "execution_count": 6,
   "metadata": {},
   "outputs": [
    {
     "name": "stdout",
     "output_type": "stream",
     "text": [
      "[-350.000000000000, -30460.0000000000, -349370.000000000, -743180.000000000, -1831790.00000000]\n",
      "[-3.50000e+02 -3.04600e+04 -3.49370e+05 -7.43180e+05 -1.83179e+06]\n",
      "[-3316.99999999015, -3323.00000000000, -2775.00000000000, -3335.00000000000, -3340.98499606003]\n",
      "[-3316.99999999 -3323.         -2775.         -3335.\n",
      " -3340.98499606]\n",
      "2.19168012133903e-9\n"
     ]
    }
   ],
   "source": [
    "# This shows that our symbolic dynamics calculation matches that from the original model\n",
    "# We did our symbols correctly!\n",
    "\n",
    "# Evaluated dV/dt at standard equilibrium\n",
    "test_state_vars_1 = list(range(2*N))\n",
    "test_state_vars = test_state_vars_1\n",
    "sub_dict = {vsymbols[i]: test_state_vars[i] for i in range(N)}\n",
    "sub_dict.update({ssymbols[i]: test_state_vars[i+N] for i in range(N)})\n",
    "\n",
    "dyns_from_symbol = dyn_symbols.xreplace(sub_dict)\n",
    "dyns_from_model = model.dynamic(t=0, state_vars = np.array(test_state_vars))\n",
    "print(dyns_from_symbol[0:5])\n",
    "print(dyns_from_model[0:5])\n",
    "print(dyns_from_symbol[-5:])\n",
    "print(dyns_from_model[-5:])\n",
    "print(np.mean(np.abs(np.array(list(dyns_from_symbol)) - np.array(dyns_from_model))))"
   ]
  },
  {
   "cell_type": "code",
   "execution_count": 7,
   "metadata": {},
   "outputs": [
    {
     "name": "stdout",
     "output_type": "stream",
     "text": [
      "Computing symbolic jacobian takes 27.90s\n"
     ]
    }
   ],
   "source": [
    "start_time = time.time()\n",
    "all_symbols = list(vsymbols) + list(ssymbols)\n",
    "J = sp.Matrix(dyn_symbols).jacobian(all_symbols)\n",
    "print(\"Computing symbolic jacobian takes %.2fs\" % (time.time() - start_time))"
   ]
  },
  {
   "cell_type": "markdown",
   "metadata": {},
   "source": [
    "# Compute Jacobian eigenvalues as PLMR input is varied"
   ]
  },
  {
   "cell_type": "markdown",
   "metadata": {},
   "source": [
    "Note that we just keep using the same symbolic jacobian for all input. This is because I_ext will get differentiated away in the jacobian matrix. The only thing that changes with I_nA is the standard equilibrium.\n",
    "\n",
    "From manual testing, somewhere between 1.75 and 1.85 nA, we get Hopf bifurcation."
   ]
  },
  {
   "cell_type": "code",
   "execution_count": 8,
   "metadata": {},
   "outputs": [
    {
     "name": "stdout",
     "output_type": "stream",
     "text": [
      "I_nA, max_real_eval\n",
      "Evaluating jacobian takes 0.91s\n"
     ]
    },
    {
     "name": "stderr",
     "output_type": "stream",
     "text": [
      "/home/stephen/anaconda3/lib/python3.7/site-packages/ipykernel_launcher.py:21: ComplexWarning: Casting complex values to real discards the imaginary part\n"
     ]
    },
    {
     "name": "stdout",
     "output_type": "stream",
     "text": [
      "0.00, -4.54\n",
      "Evaluating jacobian takes 0.86s\n",
      "0.10, -4.57\n",
      "Evaluating jacobian takes 0.87s\n",
      "0.20, -4.60\n",
      "Evaluating jacobian takes 0.89s\n",
      "0.30, -4.63\n",
      "Evaluating jacobian takes 0.87s\n",
      "0.40, -4.66\n",
      "Evaluating jacobian takes 1.02s\n",
      "0.50, -4.68\n",
      "Evaluating jacobian takes 0.86s\n",
      "0.60, -4.71\n",
      "Evaluating jacobian takes 0.86s\n",
      "0.70, -4.74\n",
      "Evaluating jacobian takes 0.89s\n",
      "0.80, -4.77\n",
      "Evaluating jacobian takes 0.89s\n",
      "0.90, -4.80\n",
      "Evaluating jacobian takes 0.84s\n",
      "1.00, -4.83\n",
      "Evaluating jacobian takes 0.92s\n",
      "1.10, -4.86\n",
      "Evaluating jacobian takes 0.85s\n",
      "1.20, -4.61\n",
      "Evaluating jacobian takes 0.85s\n",
      "1.30, -3.92\n",
      "Evaluating jacobian takes 0.82s\n",
      "1.40, -1.24\n",
      "Evaluating jacobian takes 0.96s\n",
      "1.50, -4.14\n",
      "Evaluating jacobian takes 0.83s\n",
      "1.60, -4.89\n",
      "Evaluating jacobian takes 0.84s\n",
      "1.70, -4.89\n",
      "Evaluating jacobian takes 0.83s\n",
      "1.80, -4.89\n",
      "Evaluating jacobian takes 0.84s\n",
      "1.90, -4.89\n",
      "Evaluating jacobian takes 0.84s\n",
      "2.00, -4.89\n",
      "Evaluating jacobian takes 0.83s\n",
      "2.10, -4.89\n",
      "Evaluating jacobian takes 1.00s\n",
      "2.20, -4.90\n",
      "Evaluating jacobian takes 0.84s\n",
      "2.30, -4.90\n",
      "Evaluating jacobian takes 0.84s\n",
      "2.40, -4.90\n",
      "Evaluating jacobian takes 0.83s\n",
      "2.50, -4.90\n",
      "Evaluating jacobian takes 0.83s\n",
      "2.60, -4.90\n",
      "Evaluating jacobian takes 0.86s\n",
      "2.70, -4.90\n",
      "Evaluating jacobian takes 0.95s\n",
      "2.80, -4.90\n",
      "Evaluating jacobian takes 0.96s\n",
      "2.90, -4.91\n"
     ]
    }
   ],
   "source": [
    "print(\"I_nA, max_real_eval\")\n",
    "for I_nA in np.arange(0.0,3.0,0.1):\n",
    "  model = NeuralModel(neuron_metadata_collection)\n",
    "  model.init_kunert_2017()\n",
    "\n",
    "  # Get standard equilibrium\n",
    "  cur_I_ext = np.zeros(N)\n",
    "  neuron_id = neuron_metadata_collection.get_id_from_name(neuron_to_stimulate)\n",
    "  cur_I_ext[neuron_id] = I_nA * 10000\n",
    "  model.cur_I_ext = cur_I_ext\n",
    "  model.set_I_ext_constant_currents({neuron_to_stimulate: I_nA})\n",
    "  standard_equi = model.compute_standard_equilibrium()\n",
    "  \n",
    "  sub_dict = {vsymbols[i]: standard_equi[i] for i in range(N)}\n",
    "  sub_dict.update({ssymbols[i]: standard_equi[i+N] for i in range(N)})\n",
    "  start_time = time.time()\n",
    "  evaluated_j = J.xreplace(sub_dict)\n",
    "  print(\"Evaluating jacobian takes %.2fs\" % (time.time() - start_time))\n",
    "  j_np = np.array(evaluated_j).astype(np.float64)\n",
    "  evals = LA.eigvals(j_np)\n",
    "  print(\"%.2f, %.2f\" % (I_nA, max(evals)))"
   ]
  }
 ],
 "metadata": {
  "kernelspec": {
   "display_name": "Python 3",
   "language": "python",
   "name": "python3"
  },
  "language_info": {
   "codemirror_mode": {
    "name": "ipython",
    "version": 3
   },
   "file_extension": ".py",
   "mimetype": "text/x-python",
   "name": "python",
   "nbconvert_exporter": "python",
   "pygments_lexer": "ipython3",
   "version": "3.7.3"
  }
 },
 "nbformat": 4,
 "nbformat_minor": 4
}
