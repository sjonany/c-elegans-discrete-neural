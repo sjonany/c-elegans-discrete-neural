{
 "cells": [
  {
   "cell_type": "code",
   "execution_count": 1,
   "metadata": {},
   "outputs": [],
   "source": [
    "import csv\n",
    "from enum import Enum\n",
    "import numpy as np\n",
    "\n",
    "import project_path\n",
    "from model.data_accessor import get_data_file_abs_path\n",
    "from model.connectome_loader import load_connectome_dict_cook, load_connectome_cook\n",
    "from model.neuron_metadata import NeuronMetadataCollection\n",
    "\n",
    "neuron_metadata_collection = NeuronMetadataCollection.load_from_chem_json(get_data_file_abs_path('chem.json'))\n",
    "conn_spec_to_weight_gap, conn_spec_to_weight_chem = load_connectome_dict_cook()\n",
    "cook_neurons = set()\n",
    "for (source, target) in conn_spec_to_weight_gap.keys():\n",
    "  cook_neurons.add(source)\n",
    "  cook_neurons.add(target)\n",
    "for (source, target) in conn_spec_to_weight_chem.keys():\n",
    "  cook_neurons.add(source)\n",
    "  cook_neurons.add(target)"
   ]
  },
  {
   "cell_type": "markdown",
   "metadata": {},
   "source": [
    "# Neuron set differences"
   ]
  },
  {
   "cell_type": "code",
   "execution_count": 2,
   "metadata": {},
   "outputs": [
    {
     "name": "stdout",
     "output_type": "stream",
     "text": [
      "Cook has 448 neurons, Varshney 279\n",
      "In varshney, but not in cook: (0) set()\n",
      "In cook, but not in varshney: (169) ['ANAL', 'DBWML1', 'DBWML10', 'DBWML11', 'DBWML12', 'DBWML13', 'DBWML14', 'DBWML15', 'DBWML16', 'DBWML17', 'DBWML18', 'DBWML19', 'DBWML2', 'DBWML20', 'DBWML21', 'DBWML22', 'DBWML23', 'DBWML24', 'DBWML3', 'DBWML4', 'DBWML5', 'DBWML6', 'DBWML7', 'DBWML8', 'DBWML9', 'DBWMR1', 'DBWMR10', 'DBWMR11', 'DBWMR12', 'DBWMR13', 'DBWMR14', 'DBWMR15', 'DBWMR16', 'DBWMR17', 'DBWMR18', 'DBWMR19', 'DBWMR2', 'DBWMR20', 'DBWMR21', 'DBWMR22', 'DBWMR23', 'DBWMR24', 'DBWMR3', 'DBWMR4', 'DBWMR5', 'DBWMR6', 'DBWMR7', 'DBWMR8', 'DBWMR9', 'HYP', 'I1L', 'I1R', 'I2L', 'I2R', 'I3', 'I4', 'I5', 'I6', 'INTESTINE', 'INTL', 'INTR', 'M1', 'M2L', 'M2R', 'M3L', 'M3R', 'M4', 'M5', 'MC1DL', 'MC1DR', 'MC1V', 'MC2DL', 'MC2DR', 'MC2V', 'MC3DL', 'MC3DR', 'MC3V', 'MCL', 'MCR', 'MI', 'NSML', 'NSMR', 'PM1D', 'PM1VL', 'PM1VR', 'PM2D', 'PM2VL', 'PM2VR', 'PM3D', 'PM3VL', 'PM3VR', 'PM4D', 'PM4VL', 'PM4VR', 'PM5D', 'PM5VL', 'PM5VR', 'PM6D', 'PM6VL', 'PM6VR', 'PM7D', 'PM7VL', 'PM7VR', 'PM8', 'SPH', 'UM1AL', 'UM1AR', 'UM1PL', 'UM1PR', 'UM2AL', 'UM2AR', 'UM2PL', 'UM2PR', 'VBWML1', 'VBWML10', 'VBWML11', 'VBWML12', 'VBWML13', 'VBWML14', 'VBWML15', 'VBWML16', 'VBWML17', 'VBWML18', 'VBWML19', 'VBWML2', 'VBWML20', 'VBWML21', 'VBWML22', 'VBWML23', 'VBWML3', 'VBWML4', 'VBWML5', 'VBWML6', 'VBWML7', 'VBWML8', 'VBWML9', 'VBWMR1', 'VBWMR10', 'VBWMR11', 'VBWMR12', 'VBWMR13', 'VBWMR14', 'VBWMR15', 'VBWMR16', 'VBWMR17', 'VBWMR18', 'VBWMR19', 'VBWMR2', 'VBWMR20', 'VBWMR21', 'VBWMR22', 'VBWMR23', 'VBWMR24', 'VBWMR3', 'VBWMR4', 'VBWMR5', 'VBWMR6', 'VBWMR7', 'VBWMR8', 'VBWMR9', 'VC06', 'VM1AL', 'VM1AR', 'VM1PL', 'VM1PR', 'VM2AL', 'VM2AR', 'VM2PL', 'VM2PR']\n"
     ]
    }
   ],
   "source": [
    "# Cook has 448 neurons, Varshney 279\n",
    "varshney_neurons = neuron_metadata_collection.name_to_id.keys()\n",
    "print(\"Cook has %d neurons, Varshney %d\" % (len(cook_neurons), len(varshney_neurons)))\n",
    "\n",
    "# All neurons in varshney found in cook\n",
    "varshney_diff_cook = varshney_neurons - cook_neurons\n",
    "print(\"In varshney, but not in cook: (%d) %s\" % (len(varshney_diff_cook), varshney_diff_cook))\n",
    "\n",
    "  # 169 neurons in cook are not found in varshney.\n",
    "cook_diff_varshney = cook_neurons - varshney_neurons\n",
    "print(\"In cook, but not in varshney: (%d) %s\" % (len(cook_diff_varshney), sorted(cook_diff_varshney)))\n"
   ]
  },
  {
   "cell_type": "code",
   "execution_count": 3,
   "metadata": {},
   "outputs": [],
   "source": [
    "cook_Gg, cook_Gs = load_connectome_cook()"
   ]
  }
 ],
 "metadata": {
  "kernelspec": {
   "display_name": "Python 3",
   "language": "python",
   "name": "python3"
  },
  "language_info": {
   "codemirror_mode": {
    "name": "ipython",
    "version": 3
   },
   "file_extension": ".py",
   "mimetype": "text/x-python",
   "name": "python",
   "nbconvert_exporter": "python",
   "pygments_lexer": "ipython3",
   "version": "3.7.3"
  }
 },
 "nbformat": 4,
 "nbformat_minor": 4
}
