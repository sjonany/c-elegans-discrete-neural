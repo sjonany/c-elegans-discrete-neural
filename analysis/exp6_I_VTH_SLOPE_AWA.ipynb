{
 "cells": [
  {
   "cell_type": "code",
   "execution_count": 1,
   "metadata": {},
   "outputs": [],
   "source": [
    "import numpy as np\n",
    "import pickle\n",
    "import project_path\n",
    "import os\n",
    "from model.neuron_metadata import *\n",
    "from model.data_accessor import get_data_file_abs_path\n",
    "from model.neural_model import NeuralModel\n",
    "from util.plot_util import *\n",
    "neuron_metadata_collection = NeuronMetadataCollection.load_from_chem_json(get_data_file_abs_path('chem.json'))\n",
    "N = neuron_metadata_collection.get_size()\n"
   ]
  },
  {
   "cell_type": "markdown",
   "metadata": {},
   "source": [
    "# Concrete Example"
   ]
  },
  {
   "cell_type": "code",
   "execution_count": 2,
   "metadata": {},
   "outputs": [],
   "source": [
    "def compare_Vth_slope_with_simulation(obs_neuron):\n",
    "  \n",
    "  model = NeuralModel(neuron_metadata_collection)\n",
    "  model.init_kunert_2017()\n",
    "  stim_neuron = \"AWAR\"\n",
    "  stim_neuron_id = neuron_metadata_collection.get_id_from_name(stim_neuron)\n",
    "  obs_neuron_id = neuron_metadata_collection.get_id_from_name(obs_neuron)\n",
    "  \n",
    "  # Precompute the Vth slope with math.\n",
    "  cur_I_ext = np.zeros(N)\n",
    "  model.cur_I_ext = cur_I_ext\n",
    "  model.compute_Vth()\n",
    "\n",
    "  A_inv = np.linalg.inv(model.A)\n",
    "  # Original unit is mV / arbs. If change to mv / nA, need to be mv / 10000 arbs.\n",
    "  vth_slope = -A_inv[obs_neuron_id, stim_neuron_id] * 10000\n",
    "  \n",
    "  print(\"Vth slope for %s is %.2f\" % (obs_neuron, vth_slope))\n",
    "  \n",
    "  # Get the Vths of various I's with math\n",
    "  Is = []\n",
    "  Vths = []\n",
    "  for I_nA in np.arange(0, 3, 1):\n",
    "    cur_I_ext = np.zeros(N)\n",
    "    # nA to arbs = *10,000\n",
    "    cur_I_ext[stim_neuron_id] = I_nA * 10000\n",
    "    model.cur_I_ext = cur_I_ext\n",
    "    model.compute_Vth()\n",
    "    Vth = model.Vth[obs_neuron_id]\n",
    "    Is.append(I_nA)\n",
    "    Vths.append(Vth)\n",
    "    print (\"I = %.2f (nA), Vth = %.2f (mV)\" % (I_nA, Vth))\n",
    "    if len(Vths) > 1:\n",
    "      print(\"Slope to previous = %.2f\" % ((Vth-Vths[-2])/(I_nA-Is[-2])))\n",
    "\n",
    "  fig, ax = plt.subplots(nrows=1, ncols=1, figsize=(5, 5))\n",
    "  ax.plot(Is, Vths)\n",
    "  ax.set_ylabel(\"%s Vth (mV)\" % obs_neuron)\n",
    "  ax.set_xlabel(\"%s Injected current (nA))\" % stim_neuron)\n",
    "  fig.show()"
   ]
  },
  {
   "cell_type": "code",
   "execution_count": 3,
   "metadata": {},
   "outputs": [
    {
     "name": "stdout",
     "output_type": "stream",
     "text": [
      "Vth slope for AWAL is 1545.72\n",
      "I = 0.00 (nA), Vth = -3.27 (mV)\n",
      "I = 1.00 (nA), Vth = 1542.45 (mV)\n",
      "Slope to previous = 1545.72\n",
      "I = 2.00 (nA), Vth = 3088.17 (mV)\n",
      "Slope to previous = 1545.72\n"
     ]
    },
    {
     "name": "stderr",
     "output_type": "stream",
     "text": [
      "/home/stephen/anaconda3/lib/python3.7/site-packages/ipykernel_launcher.py:40: UserWarning: Matplotlib is currently using module://ipykernel.pylab.backend_inline, which is a non-GUI backend, so cannot show the figure.\n"
     ]
    },
    {
     "data": {
      "image/png": "[encoded data removed]",
      "text/plain": [
       "<Figure size 360x360 with 1 Axes>"
      ]
     },
     "metadata": {
      "needs_background": "light"
     },
     "output_type": "display_data"
    }
   ],
   "source": [
    "compare_Vth_slope_with_simulation(\"AWAL\")"
   ]
  },
  {
   "cell_type": "markdown",
   "metadata": {},
   "source": [
    "# Extreme slopes (mV / nA) per neuron classes"
   ]
  },
  {
   "cell_type": "code",
   "execution_count": 5,
   "metadata": {},
   "outputs": [
    {
     "name": "stdout",
     "output_type": "stream",
     "text": [
      "Bottom 5 slopes for neuron type NeuronType.SENSORY\n",
      "IL2DL: 0.0000\n",
      "PLNL: 0.0000\n",
      "ALNR: 0.0000\n",
      "PLNR: 0.0000\n",
      "PVDR: 0.0000\n",
      "Top 5 slopes for neuron type NeuronType.SENSORY\n",
      "AWAR: 3397.7952\n",
      "AWAL: 1545.7174\n",
      "ASIR: 354.5968\n",
      "ASIL: 288.4044\n",
      "ASGR: 175.4903\n",
      "Bottom 5 slopes for neuron type NeuronType.INTERNEURON\n",
      "BDUR: 0.0000\n",
      "BDUL: 0.0000\n",
      "PVNR: 0.0000\n",
      "AIMR: 0.0000\n",
      "RIAL: 0.0000\n",
      "Top 5 slopes for neuron type NeuronType.INTERNEURON\n",
      "AIZR: 435.1823\n",
      "AIAR: 405.4229\n",
      "AIAL: 269.7285\n",
      "AIZL: 98.6035\n",
      "AINL: 60.9640\n",
      "Bottom 5 slopes for neuron type NeuronType.MOTOR\n",
      "HSNL: 0.0000\n",
      "HSNR: 0.0000\n",
      "VD12: 0.0000\n",
      "RMFR: 0.0000\n",
      "SMBVL: 0.0064\n",
      "Top 5 slopes for neuron type NeuronType.MOTOR\n",
      "RMGR: 17.6738\n",
      "RMHR: 7.4491\n",
      "RMGL: 6.8165\n",
      "RMHL: 4.0734\n",
      "SMBDR: 1.3547\n"
     ]
    }
   ],
   "source": [
    "import pdb\n",
    "model = NeuralModel(neuron_metadata_collection)\n",
    "model.init_kunert_2017()\n",
    "cur_I_ext = np.zeros(N)\n",
    "model.cur_I_ext = cur_I_ext\n",
    "model.compute_Vth()\n",
    "\n",
    "A_inv = np.linalg.inv(model.A)\n",
    "k = 5\n",
    "\n",
    "def get_slope_for_neuron(obs_neuron_id):\n",
    "  stim_neuron_id = neuron_metadata_collection.get_id_from_name(\"AWAR\")\n",
    "  # Original unit is mV / arbs. If change to mv / nA, need to be mv / 10000 arbs.\n",
    "  return -A_inv[obs_neuron_id, stim_neuron_id] * 10000\n",
    "\n",
    "for neuron_type in [NeuronType.SENSORY, NeuronType.INTERNEURON, NeuronType.MOTOR]:\n",
    "  neuron_ids = neuron_metadata_collection.get_neuron_ids_by_neuron_type(neuron_type)\n",
    "  slopes = [get_slope_for_neuron(neuron_id) for neuron_id in neuron_ids]\n",
    "  sorted_idxs = np.argsort(slopes)\n",
    "  bot_k_idxs = sorted_idxs[:k]\n",
    "  top_k_idxs = sorted_idxs[:-k-1:-1]\n",
    "  print(\"Bottom %d slopes for neuron type %s\" % (k, neuron_type))\n",
    "  for i in range(k):\n",
    "    nidx = bot_k_idxs[i]\n",
    "    nid = neuron_ids[nidx]\n",
    "    slope = slopes[nidx]\n",
    "    neuron_name = neuron_metadata_collection.get_metadata(nid).name\n",
    "    print(\"%s: %.4f\" % (neuron_name, slope))\n",
    "\n",
    "  print(\"Top %d slopes for neuron type %s\" % (k, neuron_type))\n",
    "  for i in range(k):\n",
    "    nidx = top_k_idxs[i]\n",
    "    nid = neuron_ids[nidx]\n",
    "    slope = slopes[nidx]\n",
    "    neuron_name = neuron_metadata_collection.get_metadata(nid).name\n",
    "    print(\"%s: %.4f\" % (neuron_name, slope))\n",
    "  "
   ]
  }
 ],
 "metadata": {
  "kernelspec": {
   "display_name": "Python 3",
   "language": "python",
   "name": "python3"
  },
  "language_info": {
   "codemirror_mode": {
    "name": "ipython",
    "version": 3
   },
   "file_extension": ".py",
   "mimetype": "text/x-python",
   "name": "python",
   "nbconvert_exporter": "python",
   "pygments_lexer": "ipython3",
   "version": "3.7.3"
  }
 },
 "nbformat": 4,
 "nbformat_minor": 2
}
