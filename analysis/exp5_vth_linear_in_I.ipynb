{
 "cells": [
  {
   "cell_type": "code",
   "execution_count": 2,
   "metadata": {},
   "outputs": [
    {
     "name": "stdout",
     "output_type": "stream",
     "text": [
      "0.0 -2.71444370671606\n",
      "0.1 337.0650733417334\n",
      "0.2 676.8445903901829\n",
      "0.30000000000000004 1016.6241074386328\n",
      "0.4 1356.4036244870817\n"
     ]
    }
   ],
   "source": [
    "import numpy as np\n",
    "import pickle\n",
    "import project_path\n",
    "import os\n",
    "from model.neuron_metadata import *\n",
    "from model.data_accessor import get_data_file_abs_path\n",
    "from model.neural_model import NeuralModel\n",
    "from util.plot_util import *\n",
    "neuron_metadata_collection = NeuronMetadataCollection.load_from_chem_json(get_data_file_abs_path('chem.json'))\n",
    "N = neuron_metadata_collection.get_size()\n",
    "model = NeuralModel(neuron_metadata_collection)\n",
    "model.init_kunert_2017()\n",
    "\n",
    "Is = []\n",
    "Vths = []\n",
    "for I_nA in np.arange(0, 10, 0.1):\n",
    "  cur_I_ext = np.zeros(N)\n",
    "  neuron_id = neuron_metadata_collection.get_id_from_name(\"AWAR\")\n",
    "  # nA to arbs = *10,000\n",
    "  cur_I_ext[neuron_id] = I_nA * 10000\n",
    "  model.cur_I_ext = cur_I_ext\n",
    "  model.compute_Vth()\n",
    "  Vth = model.Vth[neuron_id]\n",
    "  Is.append(I_nA)\n",
    "  Vths.append(Vth)\n",
    "  if I_nA < 0.5:\n",
    "    print (I_nA, Vth)\n",
    "\n",
    "fig, ax = plt.subplots(nrows=1, ncols=1, figsize=(5, 5))\n",
    "ax.plot(Is, Vths)\n",
    "ax.set_ylabel(\"AWAR's Vth (mV)\")\n",
    "ax.set_xlabel(\"AWAR's Injected current (nA))\")\n",
    "_ = _"
   ]
  },
  {
   "cell_type": "code",
   "execution_count": null,
   "metadata": {},
   "outputs": [],
   "source": []
  }
 ],
 "metadata": {
  "kernelspec": {
   "display_name": "Python 3",
   "language": "python",
   "name": "python3"
  },
  "language_info": {
   "codemirror_mode": {
    "name": "ipython",
    "version": 3
   },
   "file_extension": ".py",
   "mimetype": "text/x-python",
   "name": "python",
   "nbconvert_exporter": "python",
   "pygments_lexer": "ipython3",
   "version": "3.7.3"
  }
 },
 "nbformat": 4,
 "nbformat_minor": 2
}
