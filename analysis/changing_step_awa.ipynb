{
 "cells": [
  {
   "cell_type": "code",
   "execution_count": 1,
   "metadata": {},
   "outputs": [],
   "source": [
    "# Parameters to set to run this notebook\n",
    "\n",
    "# Initialize helpers.\n",
    "import numpy as np\n",
    "import project_path\n",
    "from model.data_accessor import get_data_file_abs_path\n",
    "from model.neuron_metadata import *\n",
    "neuron_metadata_collection = NeuronMetadataCollection.load_from_chem_json(get_data_file_abs_path('chem.json'))\n",
    "N = neuron_metadata_collection.get_size()\n",
    "\n",
    "# How many seconds to run each step for. This should be long enough for stability to be observed.\n",
    "step_duration_s = 4\n",
    "# The step amplitudes in nA. Each amplitude will be run for step_duration\n",
    "start_amp_nA = 0.5\n",
    "peak_amp_nA = 1.5\n",
    "amp_delta_nA = 0.1\n",
    "step_amplitudes_nA = np.concatenate((np.arange(start_amp_nA, peak_amp_nA, amp_delta_nA), \\\n",
    "                                     np.arange(peak_amp_nA, start_amp_nA-amp_delta_nA/2, -amp_delta_nA)), axis=None)\n",
    "\n",
    "neurons_to_stimulate = [\"AWAR\"]\n",
    "\n",
    "# Initial condition\n",
    "# If you want a fixed-seed initial condition, uncomment the line below.\n",
    "# np.random.seed(0)\n",
    "init_conds = 10**(-4)*np.random.normal(0, 0.94, 2*N)\n"
   ]
  },
  {
   "cell_type": "code",
   "execution_count": 2,
   "metadata": {},
   "outputs": [],
   "source": [
    "# Setup the model\n",
    "from model.neural_model import NeuralModel\n",
    "from util.plot_util import *\n",
    "import os\n",
    "import pickle\n",
    "\n",
    "neurons_to_observe = NeuronMetadataCollection.create_lr_names_from_base([\n",
    "  \"AWA\"\n",
    "])\n",
    "model = NeuralModel(neuron_metadata_collection)\n",
    "model.init_conds = init_conds\n",
    "\n",
    "# Set I_inj_i(t)\n",
    "\n",
    "def time_to_I_ext_fun(t):\n",
    "  amp = step_amplitudes_nA[int(t / step_duration_s)]\n",
    "  cur_I_ext = np.zeros(N)\n",
    "  for neuron in neurons_to_stimulate:\n",
    "    neuron_id = neuron_metadata_collection.get_id_from_name(neuron)\n",
    "    cur_I_ext[neuron_id] = amp\n",
    "  return cur_I_ext\n",
    "\n",
    "# These are timesteps when I_ext changes\n",
    "num_step_values = len(step_amplitudes_nA)\n",
    "t_changes_I_ext = np.array(range(num_step_values)) * step_duration_s\n",
    "t_changes_I_ext = t_changes_I_ext.tolist()\n",
    "model.set_I_ext(time_to_I_ext_fun, t_changes_I_ext)\n",
    "\n",
    "model.init_kunert_2017()\n",
    "\n",
    "step_duration_timesteps = int(step_duration_s / model.dt)\n",
    "simul_timesteps = step_duration_timesteps * len(step_amplitudes_nA)"
   ]
  },
  {
   "cell_type": "code",
   "execution_count": 3,
   "metadata": {},
   "outputs": [
    {
     "name": "stdout",
     "output_type": "stream",
     "text": [
      "Loading saved results from pickle file ../local_results/exp_CHANGING_STEP_AWA/4_0.50_1.50_0.10_AWAR\n"
     ]
    }
   ],
   "source": [
    "# Run the model. Or not, if cached result already exists\n",
    "# Cache file is about ~1MB for 1 second.\n",
    "cache_key = \"%d_%.2f_%.2f_%.2f_%s\" % \\\n",
    "  (step_duration_s, start_amp_nA, peak_amp_nA, amp_delta_nA, \"_\".join(neurons_to_stimulate))\n",
    "cache_path = \"../local_results/exp_CHANGING_STEP_AWA/\" + cache_key\n",
    "\n",
    "v_normalized_mat = []\n",
    "if os.path.isfile(cache_path):\n",
    "  print(\"Loading saved results from pickle file {}\".format(cache_path))\n",
    "  with open(cache_path, \"rb\") as f:\n",
    "    (v_mat, v_normalized_mat) = pickle.load(f)\n",
    "else:\n",
    "  (v_mat, s_mat, v_normalized_mat) = model.run(simul_timesteps)\n",
    "  # Update cache\n",
    "  with open(cache_path, \"wb\") as f:\n",
    "    pickle.dump((v_mat, v_normalized_mat), f)"
   ]
  },
  {
   "cell_type": "markdown",
   "metadata": {},
   "source": [
    "# Plot stimulus"
   ]
  },
  {
   "cell_type": "code",
   "execution_count": 4,
   "metadata": {},
   "outputs": [
    {
     "data": {
      "image/png": "[encoded data removed]",
      "text/plain": [
       "<Figure size 432x288 with 1 Axes>"
      ]
     },
     "metadata": {
      "needs_background": "light"
     },
     "output_type": "display_data"
    }
   ],
   "source": [
    "times = np.array(np.arange(0, simul_timesteps * model.dt, model.dt))\n",
    "\n",
    "awal_index = neuron_metadata_collection.get_id_from_name(\"AWAR\")\n",
    "amps = [time_to_I_ext_fun(time)[awal_index] for time in times]\n",
    "fig, ax = plt.subplots(nrows=1, ncols=1)\n",
    "ax.plot(times, amps)\n",
    "ax.set_title(\"Stimulus over time for AWAR\")\n",
    "ax.set_ylabel(\"Injected current (nA)\")\n",
    "ax.set_xlabel(\"Time (s)\")\n",
    "_ = _"
   ]
  },
  {
   "cell_type": "markdown",
   "metadata": {},
   "source": [
    "# Plot potentials of selected neurons"
   ]
  },
  {
   "cell_type": "code",
   "execution_count": 5,
   "metadata": {},
   "outputs": [
    {
     "ename": "SyntaxError",
     "evalue": "positional argument follows keyword argument (<ipython-input-5-eaf1241ba5ea>, line 5)",
     "output_type": "error",
     "traceback": [
      "\u001b[0;36m  File \u001b[0;32m\"<ipython-input-5-eaf1241ba5ea>\"\u001b[0;36m, line \u001b[0;32m5\u001b[0m\n\u001b[0;31m    model.dt,\u001b[0m\n\u001b[0m    ^\u001b[0m\n\u001b[0;31mSyntaxError\u001b[0m\u001b[0;31m:\u001b[0m positional argument follows keyword argument\n"
     ]
    }
   ],
   "source": [
    "#%matplotlib notebook\n",
    "fig = plot_potentials(\n",
    "  neuron_names_to_show = neurons_to_observe,\n",
    "  dynamics = v_mat,\n",
    "  is_normalized_v = False,\n",
    "  dt = model.dt,\n",
    "  neuron_metadata_collection = neuron_metadata_collection)\n",
    "fig.show()"
   ]
  },
  {
   "cell_type": "code",
   "execution_count": null,
   "metadata": {},
   "outputs": [],
   "source": [
    "fig = plot_potentials(\n",
    "  neuron_names_to_show = neurons_to_observe,\n",
    "  dynamics = v_normalized_mat,\n",
    "  is_normalized_v = True,\n",
    "  dt = model.dt,\n",
    "  neuron_metadata_collection = neuron_metadata_collection)\n",
    "fig.show()"
   ]
  },
  {
   "cell_type": "markdown",
   "metadata": {},
   "source": [
    "# Plot summarized dynamics per neuron class"
   ]
  },
  {
   "cell_type": "code",
   "execution_count": null,
   "metadata": {},
   "outputs": [],
   "source": [
    "plot_pcas(v_normalized_mat, model.dt, neuron_metadata_collection)"
   ]
  },
  {
   "cell_type": "markdown",
   "metadata": {},
   "source": [
    "# Bifurcation plot"
   ]
  },
  {
   "cell_type": "code",
   "execution_count": null,
   "metadata": {},
   "outputs": [],
   "source": [
    "create_changing_step_bifurcation_plot(\n",
    "    neurons_to_observe = neurons_to_observe,\n",
    "    dynamics = v_normalized_mat,\n",
    "    is_normalized_v = True,\n",
    "    step_amps_nA = step_amplitudes_nA,\n",
    "    start_amp_nA = start_amp_nA,\n",
    "    peak_amp_nA = peak_amp_nA,\n",
    "    amp_delta_nA = amp_delta_nA, \n",
    "    step_duration_timesteps = step_duration_timesteps,\n",
    "    neuron_metadata_collection = neuron_metadata_collection)"
   ]
  },
  {
   "cell_type": "code",
   "execution_count": null,
   "metadata": {},
   "outputs": [],
   "source": [
    "create_changing_step_bifurcation_plot(\n",
    "    neurons_to_observe = neurons_to_observe,\n",
    "    dynamics = v_mat,\n",
    "    is_normalized_v = False,\n",
    "    step_amps_nA = step_amplitudes_nA,\n",
    "    start_amp_nA = start_amp_nA,\n",
    "    peak_amp_nA = peak_amp_nA,\n",
    "    amp_delta_nA = amp_delta_nA, \n",
    "    step_duration_timesteps = step_duration_timesteps,\n",
    "    neuron_metadata_collection = neuron_metadata_collection)"
   ]
  },
  {
   "cell_type": "code",
   "execution_count": null,
   "metadata": {},
   "outputs": [],
   "source": []
  }
 ],
 "metadata": {
  "kernelspec": {
   "display_name": "Python 3",
   "language": "python",
   "name": "python3"
  },
  "language_info": {
   "codemirror_mode": {
    "name": "ipython",
    "version": 3
   },
   "file_extension": ".py",
   "mimetype": "text/x-python",
   "name": "python",
   "nbconvert_exporter": "python",
   "pygments_lexer": "ipython3",
   "version": "3.7.3"
  }
 },
 "nbformat": 4,
 "nbformat_minor": 2
}
