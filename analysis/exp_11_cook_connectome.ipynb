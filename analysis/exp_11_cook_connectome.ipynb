{
 "cells": [
  {
   "cell_type": "code",
   "execution_count": 1,
   "metadata": {},
   "outputs": [],
   "source": [
    "import csv\n",
    "from enum import Enum\n",
    "import numpy as np\n",
    "\n",
    "import project_path\n",
    "from model.data_accessor import get_data_file_abs_path\n",
    "from model.connectome_loader import load_connectome_dict_cook, load_connectome_cook, load_gap_connectome_varshney\n",
    "from model.neuron_metadata import NeuronMetadataCollection\n",
    "\n",
    "neuron_metadata_collection = NeuronMetadataCollection.load_from_chem_json(get_data_file_abs_path('chem.json'))\n",
    "conn_spec_to_weight_gap, conn_spec_to_weight_chem = load_connectome_dict_cook()\n",
    "cook_neurons = set()\n",
    "for (target, source) in conn_spec_to_weight_gap.keys():\n",
    "  cook_neurons.add(source)\n",
    "  cook_neurons.add(target)\n",
    "for (target, source) in conn_spec_to_weight_chem.keys():\n",
    "  cook_neurons.add(source)\n",
    "  cook_neurons.add(target)"
   ]
  },
  {
   "cell_type": "markdown",
   "metadata": {},
   "source": [
    "# Neuron set differences"
   ]
  },
  {
   "cell_type": "code",
   "execution_count": 2,
   "metadata": {},
   "outputs": [
    {
     "name": "stdout",
     "output_type": "stream",
     "text": [
      "Cook has 448 neurons, Varshney 279\n",
      "In varshney, but not in cook: (0) set()\n",
      "In cook, but not in varshney: (169) ['ANAL', 'DBWML1', 'DBWML10', 'DBWML11', 'DBWML12', 'DBWML13', 'DBWML14', 'DBWML15', 'DBWML16', 'DBWML17', 'DBWML18', 'DBWML19', 'DBWML2', 'DBWML20', 'DBWML21', 'DBWML22', 'DBWML23', 'DBWML24', 'DBWML3', 'DBWML4', 'DBWML5', 'DBWML6', 'DBWML7', 'DBWML8', 'DBWML9', 'DBWMR1', 'DBWMR10', 'DBWMR11', 'DBWMR12', 'DBWMR13', 'DBWMR14', 'DBWMR15', 'DBWMR16', 'DBWMR17', 'DBWMR18', 'DBWMR19', 'DBWMR2', 'DBWMR20', 'DBWMR21', 'DBWMR22', 'DBWMR23', 'DBWMR24', 'DBWMR3', 'DBWMR4', 'DBWMR5', 'DBWMR6', 'DBWMR7', 'DBWMR8', 'DBWMR9', 'HYP', 'I1L', 'I1R', 'I2L', 'I2R', 'I3', 'I4', 'I5', 'I6', 'INTESTINE', 'INTL', 'INTR', 'M1', 'M2L', 'M2R', 'M3L', 'M3R', 'M4', 'M5', 'MC1DL', 'MC1DR', 'MC1V', 'MC2DL', 'MC2DR', 'MC2V', 'MC3DL', 'MC3DR', 'MC3V', 'MCL', 'MCR', 'MI', 'NSML', 'NSMR', 'PM1D', 'PM1VL', 'PM1VR', 'PM2D', 'PM2VL', 'PM2VR', 'PM3D', 'PM3VL', 'PM3VR', 'PM4D', 'PM4VL', 'PM4VR', 'PM5D', 'PM5VL', 'PM5VR', 'PM6D', 'PM6VL', 'PM6VR', 'PM7D', 'PM7VL', 'PM7VR', 'PM8', 'SPH', 'UM1AL', 'UM1AR', 'UM1PL', 'UM1PR', 'UM2AL', 'UM2AR', 'UM2PL', 'UM2PR', 'VBWML1', 'VBWML10', 'VBWML11', 'VBWML12', 'VBWML13', 'VBWML14', 'VBWML15', 'VBWML16', 'VBWML17', 'VBWML18', 'VBWML19', 'VBWML2', 'VBWML20', 'VBWML21', 'VBWML22', 'VBWML23', 'VBWML3', 'VBWML4', 'VBWML5', 'VBWML6', 'VBWML7', 'VBWML8', 'VBWML9', 'VBWMR1', 'VBWMR10', 'VBWMR11', 'VBWMR12', 'VBWMR13', 'VBWMR14', 'VBWMR15', 'VBWMR16', 'VBWMR17', 'VBWMR18', 'VBWMR19', 'VBWMR2', 'VBWMR20', 'VBWMR21', 'VBWMR22', 'VBWMR23', 'VBWMR24', 'VBWMR3', 'VBWMR4', 'VBWMR5', 'VBWMR6', 'VBWMR7', 'VBWMR8', 'VBWMR9', 'VC06', 'VM1AL', 'VM1AR', 'VM1PL', 'VM1PR', 'VM2AL', 'VM2AR', 'VM2PL', 'VM2PR']\n"
     ]
    }
   ],
   "source": [
    "# Cook has 448 neurons, Varshney 279\n",
    "varshney_neurons = neuron_metadata_collection.name_to_id.keys()\n",
    "print(\"Cook has %d neurons, Varshney %d\" % (len(cook_neurons), len(varshney_neurons)))\n",
    "\n",
    "# All neurons in varshney found in cook\n",
    "varshney_diff_cook = varshney_neurons - cook_neurons\n",
    "print(\"In varshney, but not in cook: (%d) %s\" % (len(varshney_diff_cook), varshney_diff_cook))\n",
    "\n",
    "  # 169 neurons in cook are not found in varshney.\n",
    "cook_diff_varshney = cook_neurons - varshney_neurons\n",
    "print(\"In cook, but not in varshney: (%d) %s\" % (len(cook_diff_varshney), sorted(cook_diff_varshney)))\n"
   ]
  },
  {
   "cell_type": "markdown",
   "metadata": {},
   "source": [
    "# Gap junction differences"
   ]
  },
  {
   "cell_type": "code",
   "execution_count": 3,
   "metadata": {},
   "outputs": [],
   "source": [
    "varshney_Gg, varshney_Gs = load_gap_connectome_varshney()\n",
    "cook_Gg, cook_Gs = load_connectome_cook()"
   ]
  },
  {
   "cell_type": "code",
   "execution_count": 12,
   "metadata": {},
   "outputs": [
    {
     "name": "stdout",
     "output_type": "stream",
     "text": [
      "--------------------------\n",
      "cook Gg has 1276 new connections. Below are some samples.\n",
      "URADL -> IL2DL\n",
      "URAVL -> IL2VL\n",
      "OLLL -> IL2L\n",
      "URBL -> IL2L\n",
      "URAVL -> IL2L\n",
      "--------------------------\n",
      "cook Gg has lost 256 connections. Below are some samples.\n",
      "OLLL -> IL1DL\n",
      "IL1DL -> OLLL\n",
      "IL1VR -> IL2R\n",
      "AVAR -> URYVL\n",
      "IL1DR -> OLLR\n",
      "--------------------------\n",
      "cook Gs has 1602 new connections. Below are some samples.\n",
      "IL2DL -> IL2DL\n",
      "IL1DL -> IL2DL\n",
      "CEPDL -> IL2DL\n",
      "RIH -> IL2VL\n",
      "IL1L -> IL2L\n",
      "--------------------------\n",
      "cook Gs has lost 316 connections. Below are some samples.\n",
      "OLQVL -> IL2VL\n",
      "OLQVL -> IL1VL\n",
      "IL1L -> IL1DL\n",
      "PVR -> IL1DL\n",
      "IL1DL -> URYDL\n"
     ]
    },
    {
     "name": "stderr",
     "output_type": "stream",
     "text": [
      "/home/stephen/anaconda3/lib/python3.7/site-packages/ipykernel_launcher.py:57: UserWarning: Matplotlib is currently using module://ipykernel.pylab.backend_inline, which is a non-GUI backend, so cannot show the figure.\n"
     ]
    },
    {
     "data": {
      "image/png": "[encoded data removed]",
      "text/plain": [
       "<Figure size 360x360 with 1 Axes>"
      ]
     },
     "metadata": {
      "needs_background": "light"
     },
     "output_type": "display_data"
    },
    {
     "data": {
      "image/png": "[encoded data removed]",
      "text/plain": [
       "<Figure size 360x360 with 1 Axes>"
      ]
     },
     "metadata": {
      "needs_background": "light"
     },
     "output_type": "display_data"
    }
   ],
   "source": [
    "import pylab as plt\n",
    "N = neuron_metadata_collection.get_size()\n",
    "\n",
    "def compare_two_matrices(mat1, mat2, mat1name, mat2name):\n",
    "  diff = mat2 - mat1\n",
    "  new_conns_in_mat2_bools = np.logical_and(mat2 > 0, mat1 == 0)\n",
    "  lost_conns_in_mat2_bools = np.logical_and(mat2 == 0, mat1 > 0)\n",
    "  num_new_conns_in_mat2 = np.sum(new_conns_in_mat2_bools)\n",
    "  num_lost_conns_in_mat2 = np.sum(lost_conns_in_mat2_bools)\n",
    "  new_conns_in_mat_2_idxs = np.argwhere(new_conns_in_mat2_bools)\n",
    "  lost_conns_in_mat_2_idxs = np.argwhere(lost_conns_in_mat2_bools)\n",
    "  \n",
    "  num_samples = 5\n",
    "  # Count number of new connections\n",
    "  # Confirmation: OLLL to IL2L gap junction\n",
    "  # exists in https://wormwiring.org/apps/listViewer/?listtype=partners\n",
    "  # but not in http://wormweb.org/neuralnet#c=OLL&m=1\n",
    "  print(\"--------------------------\")\n",
    "  print(\"%s has %d new connections. Below are some samples.\" % (mat2name, num_new_conns_in_mat2))\n",
    "  i = 0\n",
    "  for (target_id, source_id) in new_conns_in_mat_2_idxs:\n",
    "    target_neuron = neuron_metadata_collection.get_metadata(target_id).name\n",
    "    source_neuron = neuron_metadata_collection.get_metadata(source_id).name\n",
    "    print(\"%s -> %s\" % (source_neuron, target_neuron))\n",
    "    i += 1\n",
    "    if i >= num_samples:\n",
    "      break\n",
    "\n",
    "  # Count number of missing connections.\n",
    "  # Confirmation: OLLL to IL1DL gap junction\n",
    "  # exists in  http://wormweb.org/neuralnet#c=OLL&m=1\n",
    "  # but not in https://wormwiring.org/apps/listViewer/?listtype=partners\n",
    "  print(\"--------------------------\")\n",
    "  print(\"%s has lost %d connections. Below are some samples.\" % (mat2name, num_lost_conns_in_mat2))\n",
    "  i = 0\n",
    "  for (target_id, source_id) in lost_conns_in_mat_2_idxs:\n",
    "    target_neuron = neuron_metadata_collection.get_metadata(target_id).name\n",
    "    source_neuron = neuron_metadata_collection.get_metadata(source_id).name\n",
    "    print(\"%s -> %s\" % (source_neuron, target_neuron))\n",
    "    i += 1\n",
    "    if i >= num_samples:\n",
    "      break\n",
    "      \n",
    "  # Plot edge weight distribution histograms\n",
    "  fig, ax = plt.subplots(figsize = (5,5))\n",
    "  vals1 = mat1.flatten()\n",
    "  # Ignore the absent edges\n",
    "  vals1 = vals1[vals1>0]\n",
    "  vals2 = mat2.flatten()\n",
    "  # Ignore the absent edges\n",
    "  vals2 = vals2[vals2>0]\n",
    "  bins = np.linspace(0, max(np.max(vals1), np.max(vals2)), 50)\n",
    "  ax.hist([vals1, vals2], bins, label=[mat1name, mat2name])\n",
    "  ax.legend(loc='upper right')\n",
    "  ax.set_xlabel(\"Edge weight\")\n",
    "  ax.set_ylabel(\"Number of occurrence\")\n",
    "  fig.show()\n",
    "    \n",
    "compare_two_matrices(varshney_Gg, cook_Gg, \"varhsney Gg\", \"cook Gg\")\n",
    "compare_two_matrices(varshney_Gs, cook_Gs, \"varhsney Gs\", \"cook Gs\")\n",
    "\n",
    "_ = _"
   ]
  },
  {
   "cell_type": "code",
   "execution_count": null,
   "metadata": {},
   "outputs": [],
   "source": []
  }
 ],
 "metadata": {
  "kernelspec": {
   "display_name": "Python 3",
   "language": "python",
   "name": "python3"
  },
  "language_info": {
   "codemirror_mode": {
    "name": "ipython",
    "version": 3
   },
   "file_extension": ".py",
   "mimetype": "text/x-python",
   "name": "python",
   "nbconvert_exporter": "python",
   "pygments_lexer": "ipython3",
   "version": "3.7.3"
  }
 },
 "nbformat": 4,
 "nbformat_minor": 4
}
